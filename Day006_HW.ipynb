{
 "cells": [
  {
   "cell_type": "markdown",
   "metadata": {},
   "source": [
    "# API 資料串接 - 以 知乎 API 實作範例\n",
    "\n",
    "\n",
    "\n",
    "* 了解知乎 API 使用方式與回傳內容\n",
    "* 撰寫程式存取 API 且添加標頭\n",
    "\n",
    "\n"
   ]
  },
  {
   "cell_type": "markdown",
   "metadata": {},
   "source": [
    "## 作業目標\n",
    "\n",
    "* 根據範例提供的 API ，完成以下問題：\n",
    "\n",
    "    1. 取出知乎問題發問時間\n",
    "    2. 取出第一筆與最後一筆回答的時間\n"
   ]
  },
  {
   "cell_type": "markdown",
   "metadata": {},
   "source": [
    "## 觀察HTTP Headers的參考資料\n",
    "https://www.cupoy.com/clubnews/ai_tw/0000016E62FB84E4000000026375706F795F72656C656173654B5741535354434C5542/0000016F1181369A000000056375706F795F72656C656173654B5741535354434C55424E455753"
   ]
  },
  {
   "cell_type": "markdown",
   "metadata": {},
   "source": [
    "## 下載檔案"
   ]
  },
  {
   "cell_type": "code",
   "execution_count": 1,
   "metadata": {},
   "outputs": [
    {
     "data": {
      "text/plain": [
       "'<html>\\r\\n<head><title>400 Bad Request</title></head>\\r\\n<body bgcolor=\"white\">\\r\\n<center><h1>400 Bad Request</h1></center>\\r\\n<hr><center>openresty</center>\\r\\n</body>\\r\\n</html>\\r\\n'"
      ]
     },
     "execution_count": 1,
     "metadata": {},
     "output_type": "execute_result"
    }
   ],
   "source": [
    "# 失敗範例 - 未加header\n",
    "import requests\n",
    "r = requests.get('https://www.zhihu.com/api/v4/questions/55493026/answers')\n",
    "response = r.text\n",
    "\n",
    "response"
   ]
  },
  {
   "cell_type": "code",
   "execution_count": 2,
   "metadata": {
    "scrolled": true
   },
   "outputs": [
    {
     "data": {
      "text/plain": [
       "'{\"data\":[{\"id\":637938925,\"type\":\"answer\",\"answer_type\":\"normal\",\"question\":{\"type\":\"question\",\"id\":55493026,\"title\":\"你们都是怎么学 Python 的？\",\"question_type\":\"normal\",\"created\":1486390229,\"updated_time\":1582533957,\"url\":\"https://www.zhihu.com/api/v4/questions/55493026\",\"relationship\":{}},\"author\":{\"id\":\"e8c4768eaa41e3749f7e8bc5ac6aa74b\",\"url_token\":\"Lanyuneet\",\"name\":\"Slumbers\",\"avatar_url\":\"https://pic1.zhimg.com/v2-f950cfef511d33500177be90030dcd3d_l.jpg\",\"avatar_url_template\":\"https://pic3.zhimg.com/v2-f950cfef511d33500177be90030dcd3d.jpg\",\"is_org\":false,\"type\":\"people\",\"url\":\"https://www.zhihu.com/api/v4/people/e8c4768eaa41e3749f7e8bc5ac6aa74b\",\"user_type\":\"people\",\"headline\":\"算法工程师\",\"badge\":[],\"badge_v2\":{\"title\":\"\",\"merged_badges\":[],\"detail_badges\":[]},\"gender\":0,\"is_advertiser\":false,\"is_privacy\":false},\"url\":\"https://www.zhihu.com/api/v4/answers/637938925\",\"is_collapsed\":false,\"created_time\":1554085028,\"updated_time\":1558451618,\"extras\":\"\",\"is_copyable\":true,\"relationship\":{\"upvoted_followees\":[]},\"ad_answer\":null},{\"id\":683070334,\"type\":\"answer\",\"answer_type\":\"normal\",\"question\":{\"type\":\"question\",\"id\":55493026,\"title\":\"你们都是怎么学 Python 的？\",\"question_type\":\"normal\",\"created\":1486390229,\"updated_time\":1582533957,\"url\":\"https://www.zhihu.com/api/v4/questions/55493026\",\"relationship\":{}},\"author\":{\"id\":\"36f69162230003d316d0b8a6d8da20ba\",\"url_token\":\"liang-zi-wei-48\",\"name\":\"量子位\",\"avatar_url\":\"https://pic1.zhimg.com/v2-ca6e7ffc10a0d10edbae635cee82d007_l.jpg\",\"avatar_url_template\":\"https://pic1.zhimg.com/v2-ca6e7ffc10a0d10edbae635cee82d007.jpg\",\"is_org\":true,\"type\":\"people\",\"url\":\"https://www.zhihu.com/api/v4/people/36f69162230003d316d0b8a6d8da20ba\",\"user_type\":\"organization\",\"headline\":\"有趣的AI\\\\u0026amp;前沿科技→_→ 公众号：QbitAI\",\"badge\":[{\"type\":\"identity\",\"description\":\"已认证的官方帐号\",\"topics\":[]},{\"type\":\"best_answerer\",\"description\":\"优秀回答者\",\"topics\":[]}],\"badge_v2\":{\"title\":\"科研话题下的优秀回答者\",\"merged_badges\":[{\"type\":\"best\",\"detail_type\":\"best\",\"title\":\"优秀认证\",\"description\":\"科研话题下的优秀回答者\",\"url\":\"https://www.zhihu.com/topic/20054793\",\"sources\":[{\"id\":\"19556895\",\"token\":\"19556895\",\"type\":\"topic\",\"url\":\"https://www.zhihu.com/topic/19556895\",\"name\":\"科研\",\"avatar_path\":\"v2-f94b3093434c09b4501b056d142025e0\",\"avatar_url\":\"https://pic1.zhimg.com/v2-f94b3093434c09b4501b056d142025e0_hd.jpg\",\"description\":\"\"},{\"id\":\"19551275\",\"token\":\"19551275\",\"type\":\"topic\",\"url\":\"https://www.zhihu.com/topic/19551275\",\"name\":\"人工智能\",\"avatar_path\":\"v2-c41d10d22173d515740c43c70f885705\",\"avatar_url\":\"https://pic1.zhimg.com/v2-c41d10d22173d515740c43c70f885705_hd.jpg\",\"description\":\"\"}]},{\"type\":\"identity\",\"detail_type\":\"identity\",\"title\":\"认证\",\"description\":\"已认证的官方帐号\",\"url\":\"https://www.zhihu.com/account/verification/intro\",\"sources\":[]}],\"detail_badges\":[{\"type\":\"best\",\"detail_type\":\"best_answerer\",\"title\":\"优秀回答者\",\"description\":\"科研话题下的优秀回答者\",\"url\":\"https://www.zhihu.com/topic/20054793\",\"sources\":[{\"id\":\"19556895\",\"token\":\"19556895\",\"type\":\"topic\",\"url\":\"https://www.zhihu.com/topic/19556895\",\"name\":\"科研\",\"avatar_path\":\"v2-f94b3093434c09b4501b056d142025e0\",\"avatar_url\":\"https://pic1.zhimg.com/v2-f94b3093434c09b4501b056d142025e0_hd.jpg\",\"description\":\"\"},{\"id\":\"19551275\",\"token\":\"19551275\",\"type\":\"topic\",\"url\":\"https://www.zhihu.com/topic/19551275\",\"name\":\"人工智能\",\"avatar_path\":\"v2-c41d10d22173d515740c43c70f885705\",\"avatar_url\":\"https://pic1.zhimg.com/v2-c41d10d22173d515740c43c70f885705_hd.jpg\",\"description\":\"\"}]},{\"type\":\"identity\",\"detail_type\":\"identity_org\",\"title\":\"已认证的官方帐号\",\"description\":\"已认证的官方帐号\",\"url\":\"https://www.zhihu.com/account/verification/intro\",\"sources\":[]}]},\"gender\":-1,\"is_advertiser\":false,\"is_privacy\":false},\"url\":\"https://www.zhihu.com/api/v4/answers/683070334\",\"is_collapsed\":false,\"created_time\":1557824412,\"updated_time\":1557824412,\"extras\":\"\",\"is_copyable\":true,\"relationship\":{\"upvoted_followees\":[]},\"ad_answer\":null},{\"id\":1106818911,\"type\":\"answer\",\"answer_type\":\"paid\",\"question\":{\"type\":\"question\",\"id\":55493026,\"title\":\"你们都是怎么学 Python 的？\",\"question_type\":\"normal\",\"created\":1486390229,\"updated_time\":1582533957,\"url\":\"https://www.zhihu.com/api/v4/questions/55493026\",\"relationship\":{}},\"author\":{\"id\":\"1ab00059f301920f1dae9d92386937e6\",\"url_token\":\"zhi-hu-ke-tang\",\"name\":\"知乎课堂\",\"avatar_url\":\"https://pic4.zhimg.com/v2-e1b963abfa4c07d04d7b66bc482b1094_l.jpg\",\"avatar_url_template\":\"https://pic1.zhimg.com/v2-e1b963abfa4c07d04d7b66bc482b1094.jpg\",\"is_org\":true,\"type\":\"people\",\"url\":\"https://www.zhihu.com/api/v4/people/1ab00059f301920f1dae9d92386937e6\",\"user_type\":\"organization\",\"headline\":\"欢迎关注公众号：知乎职场圈，每天解锁一个新技能。\",\"badge\":[{\"type\":\"identity\",\"description\":\"已认证的官方帐号\",\"topics\":[]}],\"badge_v2\":{\"title\":\"已认证的官方帐号\",\"merged_badges\":[{\"type\":\"identity\",\"detail_type\":\"identity\",\"title\":\"认证\",\"description\":\"已认证的官方帐号\",\"url\":\"https://www.zhihu.com/account/verification/intro\",\"sources\":[]}],\"detail_badges\":[{\"type\":\"identity\",\"detail_type\":\"identity_org\",\"title\":\"已认证的官方帐号\",\"description\":\"已认证的官方帐号\",\"url\":\"https://www.zhihu.com/account/verification/intro\",\"sources\":[]}]},\"gender\":-1,\"is_advertiser\":true,\"is_privacy\":false},\"url\":\"https://www.zhihu.com/api/v4/answers/1106818911\",\"is_collapsed\":false,\"created_time\":1585227854,\"updated_time\":1585227854,\"extras\":\"\",\"is_copyable\":false,\"relationship\":{\"upvoted_followees\":[]},\"ad_answer\":null},{\"id\":163537026,\"type\":\"answer\",\"answer_type\":\"normal\",\"question\":{\"type\":\"question\",\"id\":55493026,\"title\":\"你们都是怎么学 Python 的？\",\"question_type\":\"normal\",\"created\":1486390229,\"updated_time\":1582533957,\"url\":\"https://www.zhihu.com/api/v4/questions/55493026\",\"relationship\":{}},\"author\":{\"id\":\"eaf435b228ce0b038a4afe8203f59b49\",\"url_token\":\"sgai\",\"name\":\"路人甲\",\"avatar_url\":\"https://pic3.zhimg.com/958a18f3216805bed269d158fb83325a_l.jpg\",\"avatar_url_template\":\"https://pic3.zhimg.com/958a18f3216805bed269d158fb83325a.jpg\",\"is_org\":false,\"type\":\"people\",\"url\":\"https://www.zhihu.com/api/v4/people/eaf435b228ce0b038a4afe8203f59b49\",\"user_type\":\"people\",\"headline\":\"微信公众号：路人甲TM，微信：thisnozy\",\"badge\":[],\"badge_v2\":{\"title\":\"\",\"merged_badges\":[],\"detail_badges\":[]},\"gender\":1,\"is_advertiser\":false,\"is_privacy\":false},\"url\":\"https://www.zhihu.com/api/v4/answers/163537026\",\"is_collapsed\":false,\"created_time\":1493693113,\"updated_time\":1579138388,\"extras\":\"\",\"is_copyable\":true,\"relationship\":{\"upvoted_followees\":[]},\"ad_answer\":null},{\"id\":873825546,\"type\":\"answer\",\"answer_type\":\"normal\",\"question\":{\"type\":\"question\",\"id\":55493026,\"title\":\"你们都是怎么学 Python 的？\",\"question_type\":\"normal\",\"created\":1486390229,\"updated_time\":1582533957,\"url\":\"https://www.zhihu.com/api/v4/questions/55493026\",\"relationship\":{}},\"author\":{\"id\":\"4d1c2c77bc7431c2a6006d154198e8b9\",\"url_token\":\"ji-de-yao-xing-fu\",\"name\":\"痴海\",\"avatar_url\":\"https://pic4.zhimg.com/v2-e8b4f9dff1e3c3170185584c925d388a_l.jpg\",\"avatar_url_template\":\"https://pic1.zhimg.com/v2-e8b4f9dff1e3c3170185584c925d388a.jpg\",\"is_org\":false,\"type\":\"people\",\"url\":\"https://www.zhihu.com/api/v4/people/4d1c2c77bc7431c2a6006d154198e8b9\",\"user_type\":\"people\",\"headline\":\"公众号痴海：每周一篇干货文\",\"badge\":[],\"badge_v2\":{\"title\":\"\",\"merged_badges\":[],\"detail_badges\":[]},\"gender\":1,\"is_advertiser\":false,\"is_privacy\":false},\"url\":\"https://www.zhihu.com/api/v4/answers/873825546\",\"is_collapsed\":false,\"created_time\":1572318426,\"updated_time\":1587220473,\"extras\":\"\",\"is_copyable\":false,\"relationship\":{\"upvoted_followees\":[]},\"ad_answer\":null}],\"paging\":{\"is_end\":false,\"is_start\":true,\"next\":\"https://www.zhihu.com/api/v4/questions/55493026/answers?limit=5\\\\u0026offset=5\",\"previous\":\"https://www.zhihu.com/api/v4/questions/55493026/answers?limit=5\\\\u0026offset=0\",\"totals\":612}}\\n'"
      ]
     },
     "execution_count": 2,
     "metadata": {},
     "output_type": "execute_result"
    }
   ],
   "source": [
    "# 失敗範例 - 加header\n",
    "import requests\n",
    "headers = {'user-agent': 'my-app/0.0.1'}\n",
    "r = requests.get('https://www.zhihu.com/api/v4/questions/55493026/answers',headers=headers)\n",
    "response = r.text\n",
    "\n",
    "response"
   ]
  },
  {
   "cell_type": "code",
   "execution_count": 3,
   "metadata": {
    "scrolled": true
   },
   "outputs": [
    {
     "name": "stdout",
     "output_type": "stream",
     "text": [
      "{'data': [{'id': 637938925, 'type': 'answer', 'answer_type': 'normal', 'question': {'type': 'question', 'id': 55493026, 'title': '你们都是怎么学 Python 的？', 'question_type': 'normal', 'created': 1486390229, 'updated_time': 1582533957, 'url': 'https://www.zhihu.com/api/v4/questions/55493026', 'relationship': {}}, 'author': {'id': 'e8c4768eaa41e3749f7e8bc5ac6aa74b', 'url_token': 'Lanyuneet', 'name': 'Slumbers', 'avatar_url': 'https://pic1.zhimg.com/v2-f950cfef511d33500177be90030dcd3d_l.jpg', 'avatar_url_template': 'https://pic3.zhimg.com/v2-f950cfef511d33500177be90030dcd3d.jpg', 'is_org': False, 'type': 'people', 'url': 'https://www.zhihu.com/api/v4/people/e8c4768eaa41e3749f7e8bc5ac6aa74b', 'user_type': 'people', 'headline': '算法工程师', 'badge': [], 'badge_v2': {'title': '', 'merged_badges': [], 'detail_badges': []}, 'gender': 0, 'is_advertiser': False, 'is_privacy': False}, 'url': 'https://www.zhihu.com/api/v4/answers/637938925', 'is_collapsed': False, 'created_time': 1554085028, 'updated_time': 1558451618, 'extras': '', 'is_copyable': True, 'relationship': {'upvoted_followees': []}, 'ad_answer': None}, {'id': 683070334, 'type': 'answer', 'answer_type': 'normal', 'question': {'type': 'question', 'id': 55493026, 'title': '你们都是怎么学 Python 的？', 'question_type': 'normal', 'created': 1486390229, 'updated_time': 1582533957, 'url': 'https://www.zhihu.com/api/v4/questions/55493026', 'relationship': {}}, 'author': {'id': '36f69162230003d316d0b8a6d8da20ba', 'url_token': 'liang-zi-wei-48', 'name': '量子位', 'avatar_url': 'https://pic1.zhimg.com/v2-ca6e7ffc10a0d10edbae635cee82d007_l.jpg', 'avatar_url_template': 'https://pic1.zhimg.com/v2-ca6e7ffc10a0d10edbae635cee82d007.jpg', 'is_org': True, 'type': 'people', 'url': 'https://www.zhihu.com/api/v4/people/36f69162230003d316d0b8a6d8da20ba', 'user_type': 'organization', 'headline': '有趣的AI&amp;前沿科技→_→ 公众号：QbitAI', 'badge': [{'type': 'identity', 'description': '已认证的官方帐号', 'topics': []}, {'type': 'best_answerer', 'description': '优秀回答者', 'topics': []}], 'badge_v2': {'title': '科研话题下的优秀回答者', 'merged_badges': [{'type': 'best', 'detail_type': 'best', 'title': '优秀认证', 'description': '科研话题下的优秀回答者', 'url': 'https://www.zhihu.com/topic/20054793', 'sources': [{'id': '19556895', 'token': '19556895', 'type': 'topic', 'url': 'https://www.zhihu.com/topic/19556895', 'name': '科研', 'avatar_path': 'v2-f94b3093434c09b4501b056d142025e0', 'avatar_url': 'https://pic1.zhimg.com/v2-f94b3093434c09b4501b056d142025e0_hd.jpg', 'description': ''}, {'id': '19551275', 'token': '19551275', 'type': 'topic', 'url': 'https://www.zhihu.com/topic/19551275', 'name': '人工智能', 'avatar_path': 'v2-c41d10d22173d515740c43c70f885705', 'avatar_url': 'https://pic1.zhimg.com/v2-c41d10d22173d515740c43c70f885705_hd.jpg', 'description': ''}]}, {'type': 'identity', 'detail_type': 'identity', 'title': '认证', 'description': '已认证的官方帐号', 'url': 'https://www.zhihu.com/account/verification/intro', 'sources': []}], 'detail_badges': [{'type': 'best', 'detail_type': 'best_answerer', 'title': '优秀回答者', 'description': '科研话题下的优秀回答者', 'url': 'https://www.zhihu.com/topic/20054793', 'sources': [{'id': '19556895', 'token': '19556895', 'type': 'topic', 'url': 'https://www.zhihu.com/topic/19556895', 'name': '科研', 'avatar_path': 'v2-f94b3093434c09b4501b056d142025e0', 'avatar_url': 'https://pic1.zhimg.com/v2-f94b3093434c09b4501b056d142025e0_hd.jpg', 'description': ''}, {'id': '19551275', 'token': '19551275', 'type': 'topic', 'url': 'https://www.zhihu.com/topic/19551275', 'name': '人工智能', 'avatar_path': 'v2-c41d10d22173d515740c43c70f885705', 'avatar_url': 'https://pic1.zhimg.com/v2-c41d10d22173d515740c43c70f885705_hd.jpg', 'description': ''}]}, {'type': 'identity', 'detail_type': 'identity_org', 'title': '已认证的官方帐号', 'description': '已认证的官方帐号', 'url': 'https://www.zhihu.com/account/verification/intro', 'sources': []}]}, 'gender': -1, 'is_advertiser': False, 'is_privacy': False}, 'url': 'https://www.zhihu.com/api/v4/answers/683070334', 'is_collapsed': False, 'created_time': 1557824412, 'updated_time': 1557824412, 'extras': '', 'is_copyable': True, 'relationship': {'upvoted_followees': []}, 'ad_answer': None}, {'id': 1106818911, 'type': 'answer', 'answer_type': 'paid', 'question': {'type': 'question', 'id': 55493026, 'title': '你们都是怎么学 Python 的？', 'question_type': 'normal', 'created': 1486390229, 'updated_time': 1582533957, 'url': 'https://www.zhihu.com/api/v4/questions/55493026', 'relationship': {}}, 'author': {'id': '1ab00059f301920f1dae9d92386937e6', 'url_token': 'zhi-hu-ke-tang', 'name': '知乎课堂', 'avatar_url': 'https://pic4.zhimg.com/v2-e1b963abfa4c07d04d7b66bc482b1094_l.jpg', 'avatar_url_template': 'https://pic1.zhimg.com/v2-e1b963abfa4c07d04d7b66bc482b1094.jpg', 'is_org': True, 'type': 'people', 'url': 'https://www.zhihu.com/api/v4/people/1ab00059f301920f1dae9d92386937e6', 'user_type': 'organization', 'headline': '欢迎关注公众号：知乎职场圈，每天解锁一个新技能。', 'badge': [{'type': 'identity', 'description': '已认证的官方帐号', 'topics': []}], 'badge_v2': {'title': '已认证的官方帐号', 'merged_badges': [{'type': 'identity', 'detail_type': 'identity', 'title': '认证', 'description': '已认证的官方帐号', 'url': 'https://www.zhihu.com/account/verification/intro', 'sources': []}], 'detail_badges': [{'type': 'identity', 'detail_type': 'identity_org', 'title': '已认证的官方帐号', 'description': '已认证的官方帐号', 'url': 'https://www.zhihu.com/account/verification/intro', 'sources': []}]}, 'gender': -1, 'is_advertiser': True, 'is_privacy': False}, 'url': 'https://www.zhihu.com/api/v4/answers/1106818911', 'is_collapsed': False, 'created_time': 1585227854, 'updated_time': 1585227854, 'extras': '', 'is_copyable': False, 'relationship': {'upvoted_followees': []}, 'ad_answer': None}, {'id': 163537026, 'type': 'answer', 'answer_type': 'normal', 'question': {'type': 'question', 'id': 55493026, 'title': '你们都是怎么学 Python 的？', 'question_type': 'normal', 'created': 1486390229, 'updated_time': 1582533957, 'url': 'https://www.zhihu.com/api/v4/questions/55493026', 'relationship': {}}, 'author': {'id': 'eaf435b228ce0b038a4afe8203f59b49', 'url_token': 'sgai', 'name': '路人甲', 'avatar_url': 'https://pic3.zhimg.com/958a18f3216805bed269d158fb83325a_l.jpg', 'avatar_url_template': 'https://pic3.zhimg.com/958a18f3216805bed269d158fb83325a.jpg', 'is_org': False, 'type': 'people', 'url': 'https://www.zhihu.com/api/v4/people/eaf435b228ce0b038a4afe8203f59b49', 'user_type': 'people', 'headline': '微信公众号：路人甲TM，微信：thisnozy', 'badge': [], 'badge_v2': {'title': '', 'merged_badges': [], 'detail_badges': []}, 'gender': 1, 'is_advertiser': False, 'is_privacy': False}, 'url': 'https://www.zhihu.com/api/v4/answers/163537026', 'is_collapsed': False, 'created_time': 1493693113, 'updated_time': 1579138388, 'extras': '', 'is_copyable': True, 'relationship': {'upvoted_followees': []}, 'ad_answer': None}, {'id': 873825546, 'type': 'answer', 'answer_type': 'normal', 'question': {'type': 'question', 'id': 55493026, 'title': '你们都是怎么学 Python 的？', 'question_type': 'normal', 'created': 1486390229, 'updated_time': 1582533957, 'url': 'https://www.zhihu.com/api/v4/questions/55493026', 'relationship': {}}, 'author': {'id': '4d1c2c77bc7431c2a6006d154198e8b9', 'url_token': 'ji-de-yao-xing-fu', 'name': '痴海', 'avatar_url': 'https://pic4.zhimg.com/v2-e8b4f9dff1e3c3170185584c925d388a_l.jpg', 'avatar_url_template': 'https://pic1.zhimg.com/v2-e8b4f9dff1e3c3170185584c925d388a.jpg', 'is_org': False, 'type': 'people', 'url': 'https://www.zhihu.com/api/v4/people/4d1c2c77bc7431c2a6006d154198e8b9', 'user_type': 'people', 'headline': '公众号痴海：每周一篇干货文', 'badge': [], 'badge_v2': {'title': '', 'merged_badges': [], 'detail_badges': []}, 'gender': 1, 'is_advertiser': False, 'is_privacy': False}, 'url': 'https://www.zhihu.com/api/v4/answers/873825546', 'is_collapsed': False, 'created_time': 1572318426, 'updated_time': 1587220473, 'extras': '', 'is_copyable': False, 'relationship': {'upvoted_followees': []}, 'ad_answer': None}], 'paging': {'is_end': False, 'is_start': True, 'next': 'https://www.zhihu.com/api/v4/questions/55493026/answers?limit=5&offset=5', 'previous': 'https://www.zhihu.com/api/v4/questions/55493026/answers?limit=5&offset=0', 'totals': 612}}\n"
     ]
    }
   ],
   "source": [
    "#資料透過 json.loads 轉換 json 字串\n",
    "import json\n",
    "\n",
    "j=json.loads(response)\n",
    "print(j)"
   ]
  },
  {
   "cell_type": "markdown",
   "metadata": {},
   "source": [
    "## 觀察資料"
   ]
  },
  {
   "cell_type": "code",
   "execution_count": 4,
   "metadata": {},
   "outputs": [
    {
     "data": {
      "text/plain": [
       "dict_keys(['data', 'paging'])"
      ]
     },
     "execution_count": 4,
     "metadata": {},
     "output_type": "execute_result"
    }
   ],
   "source": [
    "# 此API中包含兩種keys\n",
    "j.keys()"
   ]
  },
  {
   "cell_type": "code",
   "execution_count": 5,
   "metadata": {
    "scrolled": true
   },
   "outputs": [
    {
     "data": {
      "text/plain": [
       "[{'id': 637938925,\n",
       "  'type': 'answer',\n",
       "  'answer_type': 'normal',\n",
       "  'question': {'type': 'question',\n",
       "   'id': 55493026,\n",
       "   'title': '你们都是怎么学 Python 的？',\n",
       "   'question_type': 'normal',\n",
       "   'created': 1486390229,\n",
       "   'updated_time': 1582533957,\n",
       "   'url': 'https://www.zhihu.com/api/v4/questions/55493026',\n",
       "   'relationship': {}},\n",
       "  'author': {'id': 'e8c4768eaa41e3749f7e8bc5ac6aa74b',\n",
       "   'url_token': 'Lanyuneet',\n",
       "   'name': 'Slumbers',\n",
       "   'avatar_url': 'https://pic1.zhimg.com/v2-f950cfef511d33500177be90030dcd3d_l.jpg',\n",
       "   'avatar_url_template': 'https://pic3.zhimg.com/v2-f950cfef511d33500177be90030dcd3d.jpg',\n",
       "   'is_org': False,\n",
       "   'type': 'people',\n",
       "   'url': 'https://www.zhihu.com/api/v4/people/e8c4768eaa41e3749f7e8bc5ac6aa74b',\n",
       "   'user_type': 'people',\n",
       "   'headline': '算法工程师',\n",
       "   'badge': [],\n",
       "   'badge_v2': {'title': '', 'merged_badges': [], 'detail_badges': []},\n",
       "   'gender': 0,\n",
       "   'is_advertiser': False,\n",
       "   'is_privacy': False},\n",
       "  'url': 'https://www.zhihu.com/api/v4/answers/637938925',\n",
       "  'is_collapsed': False,\n",
       "  'created_time': 1554085028,\n",
       "  'updated_time': 1558451618,\n",
       "  'extras': '',\n",
       "  'is_copyable': True,\n",
       "  'relationship': {'upvoted_followees': []},\n",
       "  'ad_answer': None},\n",
       " {'id': 683070334,\n",
       "  'type': 'answer',\n",
       "  'answer_type': 'normal',\n",
       "  'question': {'type': 'question',\n",
       "   'id': 55493026,\n",
       "   'title': '你们都是怎么学 Python 的？',\n",
       "   'question_type': 'normal',\n",
       "   'created': 1486390229,\n",
       "   'updated_time': 1582533957,\n",
       "   'url': 'https://www.zhihu.com/api/v4/questions/55493026',\n",
       "   'relationship': {}},\n",
       "  'author': {'id': '36f69162230003d316d0b8a6d8da20ba',\n",
       "   'url_token': 'liang-zi-wei-48',\n",
       "   'name': '量子位',\n",
       "   'avatar_url': 'https://pic1.zhimg.com/v2-ca6e7ffc10a0d10edbae635cee82d007_l.jpg',\n",
       "   'avatar_url_template': 'https://pic1.zhimg.com/v2-ca6e7ffc10a0d10edbae635cee82d007.jpg',\n",
       "   'is_org': True,\n",
       "   'type': 'people',\n",
       "   'url': 'https://www.zhihu.com/api/v4/people/36f69162230003d316d0b8a6d8da20ba',\n",
       "   'user_type': 'organization',\n",
       "   'headline': '有趣的AI&amp;前沿科技→_→ 公众号：QbitAI',\n",
       "   'badge': [{'type': 'identity', 'description': '已认证的官方帐号', 'topics': []},\n",
       "    {'type': 'best_answerer', 'description': '优秀回答者', 'topics': []}],\n",
       "   'badge_v2': {'title': '科研话题下的优秀回答者',\n",
       "    'merged_badges': [{'type': 'best',\n",
       "      'detail_type': 'best',\n",
       "      'title': '优秀认证',\n",
       "      'description': '科研话题下的优秀回答者',\n",
       "      'url': 'https://www.zhihu.com/topic/20054793',\n",
       "      'sources': [{'id': '19556895',\n",
       "        'token': '19556895',\n",
       "        'type': 'topic',\n",
       "        'url': 'https://www.zhihu.com/topic/19556895',\n",
       "        'name': '科研',\n",
       "        'avatar_path': 'v2-f94b3093434c09b4501b056d142025e0',\n",
       "        'avatar_url': 'https://pic1.zhimg.com/v2-f94b3093434c09b4501b056d142025e0_hd.jpg',\n",
       "        'description': ''},\n",
       "       {'id': '19551275',\n",
       "        'token': '19551275',\n",
       "        'type': 'topic',\n",
       "        'url': 'https://www.zhihu.com/topic/19551275',\n",
       "        'name': '人工智能',\n",
       "        'avatar_path': 'v2-c41d10d22173d515740c43c70f885705',\n",
       "        'avatar_url': 'https://pic1.zhimg.com/v2-c41d10d22173d515740c43c70f885705_hd.jpg',\n",
       "        'description': ''}]},\n",
       "     {'type': 'identity',\n",
       "      'detail_type': 'identity',\n",
       "      'title': '认证',\n",
       "      'description': '已认证的官方帐号',\n",
       "      'url': 'https://www.zhihu.com/account/verification/intro',\n",
       "      'sources': []}],\n",
       "    'detail_badges': [{'type': 'best',\n",
       "      'detail_type': 'best_answerer',\n",
       "      'title': '优秀回答者',\n",
       "      'description': '科研话题下的优秀回答者',\n",
       "      'url': 'https://www.zhihu.com/topic/20054793',\n",
       "      'sources': [{'id': '19556895',\n",
       "        'token': '19556895',\n",
       "        'type': 'topic',\n",
       "        'url': 'https://www.zhihu.com/topic/19556895',\n",
       "        'name': '科研',\n",
       "        'avatar_path': 'v2-f94b3093434c09b4501b056d142025e0',\n",
       "        'avatar_url': 'https://pic1.zhimg.com/v2-f94b3093434c09b4501b056d142025e0_hd.jpg',\n",
       "        'description': ''},\n",
       "       {'id': '19551275',\n",
       "        'token': '19551275',\n",
       "        'type': 'topic',\n",
       "        'url': 'https://www.zhihu.com/topic/19551275',\n",
       "        'name': '人工智能',\n",
       "        'avatar_path': 'v2-c41d10d22173d515740c43c70f885705',\n",
       "        'avatar_url': 'https://pic1.zhimg.com/v2-c41d10d22173d515740c43c70f885705_hd.jpg',\n",
       "        'description': ''}]},\n",
       "     {'type': 'identity',\n",
       "      'detail_type': 'identity_org',\n",
       "      'title': '已认证的官方帐号',\n",
       "      'description': '已认证的官方帐号',\n",
       "      'url': 'https://www.zhihu.com/account/verification/intro',\n",
       "      'sources': []}]},\n",
       "   'gender': -1,\n",
       "   'is_advertiser': False,\n",
       "   'is_privacy': False},\n",
       "  'url': 'https://www.zhihu.com/api/v4/answers/683070334',\n",
       "  'is_collapsed': False,\n",
       "  'created_time': 1557824412,\n",
       "  'updated_time': 1557824412,\n",
       "  'extras': '',\n",
       "  'is_copyable': True,\n",
       "  'relationship': {'upvoted_followees': []},\n",
       "  'ad_answer': None},\n",
       " {'id': 1106818911,\n",
       "  'type': 'answer',\n",
       "  'answer_type': 'paid',\n",
       "  'question': {'type': 'question',\n",
       "   'id': 55493026,\n",
       "   'title': '你们都是怎么学 Python 的？',\n",
       "   'question_type': 'normal',\n",
       "   'created': 1486390229,\n",
       "   'updated_time': 1582533957,\n",
       "   'url': 'https://www.zhihu.com/api/v4/questions/55493026',\n",
       "   'relationship': {}},\n",
       "  'author': {'id': '1ab00059f301920f1dae9d92386937e6',\n",
       "   'url_token': 'zhi-hu-ke-tang',\n",
       "   'name': '知乎课堂',\n",
       "   'avatar_url': 'https://pic4.zhimg.com/v2-e1b963abfa4c07d04d7b66bc482b1094_l.jpg',\n",
       "   'avatar_url_template': 'https://pic1.zhimg.com/v2-e1b963abfa4c07d04d7b66bc482b1094.jpg',\n",
       "   'is_org': True,\n",
       "   'type': 'people',\n",
       "   'url': 'https://www.zhihu.com/api/v4/people/1ab00059f301920f1dae9d92386937e6',\n",
       "   'user_type': 'organization',\n",
       "   'headline': '欢迎关注公众号：知乎职场圈，每天解锁一个新技能。',\n",
       "   'badge': [{'type': 'identity', 'description': '已认证的官方帐号', 'topics': []}],\n",
       "   'badge_v2': {'title': '已认证的官方帐号',\n",
       "    'merged_badges': [{'type': 'identity',\n",
       "      'detail_type': 'identity',\n",
       "      'title': '认证',\n",
       "      'description': '已认证的官方帐号',\n",
       "      'url': 'https://www.zhihu.com/account/verification/intro',\n",
       "      'sources': []}],\n",
       "    'detail_badges': [{'type': 'identity',\n",
       "      'detail_type': 'identity_org',\n",
       "      'title': '已认证的官方帐号',\n",
       "      'description': '已认证的官方帐号',\n",
       "      'url': 'https://www.zhihu.com/account/verification/intro',\n",
       "      'sources': []}]},\n",
       "   'gender': -1,\n",
       "   'is_advertiser': True,\n",
       "   'is_privacy': False},\n",
       "  'url': 'https://www.zhihu.com/api/v4/answers/1106818911',\n",
       "  'is_collapsed': False,\n",
       "  'created_time': 1585227854,\n",
       "  'updated_time': 1585227854,\n",
       "  'extras': '',\n",
       "  'is_copyable': False,\n",
       "  'relationship': {'upvoted_followees': []},\n",
       "  'ad_answer': None},\n",
       " {'id': 163537026,\n",
       "  'type': 'answer',\n",
       "  'answer_type': 'normal',\n",
       "  'question': {'type': 'question',\n",
       "   'id': 55493026,\n",
       "   'title': '你们都是怎么学 Python 的？',\n",
       "   'question_type': 'normal',\n",
       "   'created': 1486390229,\n",
       "   'updated_time': 1582533957,\n",
       "   'url': 'https://www.zhihu.com/api/v4/questions/55493026',\n",
       "   'relationship': {}},\n",
       "  'author': {'id': 'eaf435b228ce0b038a4afe8203f59b49',\n",
       "   'url_token': 'sgai',\n",
       "   'name': '路人甲',\n",
       "   'avatar_url': 'https://pic3.zhimg.com/958a18f3216805bed269d158fb83325a_l.jpg',\n",
       "   'avatar_url_template': 'https://pic3.zhimg.com/958a18f3216805bed269d158fb83325a.jpg',\n",
       "   'is_org': False,\n",
       "   'type': 'people',\n",
       "   'url': 'https://www.zhihu.com/api/v4/people/eaf435b228ce0b038a4afe8203f59b49',\n",
       "   'user_type': 'people',\n",
       "   'headline': '微信公众号：路人甲TM，微信：thisnozy',\n",
       "   'badge': [],\n",
       "   'badge_v2': {'title': '', 'merged_badges': [], 'detail_badges': []},\n",
       "   'gender': 1,\n",
       "   'is_advertiser': False,\n",
       "   'is_privacy': False},\n",
       "  'url': 'https://www.zhihu.com/api/v4/answers/163537026',\n",
       "  'is_collapsed': False,\n",
       "  'created_time': 1493693113,\n",
       "  'updated_time': 1579138388,\n",
       "  'extras': '',\n",
       "  'is_copyable': True,\n",
       "  'relationship': {'upvoted_followees': []},\n",
       "  'ad_answer': None},\n",
       " {'id': 873825546,\n",
       "  'type': 'answer',\n",
       "  'answer_type': 'normal',\n",
       "  'question': {'type': 'question',\n",
       "   'id': 55493026,\n",
       "   'title': '你们都是怎么学 Python 的？',\n",
       "   'question_type': 'normal',\n",
       "   'created': 1486390229,\n",
       "   'updated_time': 1582533957,\n",
       "   'url': 'https://www.zhihu.com/api/v4/questions/55493026',\n",
       "   'relationship': {}},\n",
       "  'author': {'id': '4d1c2c77bc7431c2a6006d154198e8b9',\n",
       "   'url_token': 'ji-de-yao-xing-fu',\n",
       "   'name': '痴海',\n",
       "   'avatar_url': 'https://pic4.zhimg.com/v2-e8b4f9dff1e3c3170185584c925d388a_l.jpg',\n",
       "   'avatar_url_template': 'https://pic1.zhimg.com/v2-e8b4f9dff1e3c3170185584c925d388a.jpg',\n",
       "   'is_org': False,\n",
       "   'type': 'people',\n",
       "   'url': 'https://www.zhihu.com/api/v4/people/4d1c2c77bc7431c2a6006d154198e8b9',\n",
       "   'user_type': 'people',\n",
       "   'headline': '公众号痴海：每周一篇干货文',\n",
       "   'badge': [],\n",
       "   'badge_v2': {'title': '', 'merged_badges': [], 'detail_badges': []},\n",
       "   'gender': 1,\n",
       "   'is_advertiser': False,\n",
       "   'is_privacy': False},\n",
       "  'url': 'https://www.zhihu.com/api/v4/answers/873825546',\n",
       "  'is_collapsed': False,\n",
       "  'created_time': 1572318426,\n",
       "  'updated_time': 1587220473,\n",
       "  'extras': '',\n",
       "  'is_copyable': False,\n",
       "  'relationship': {'upvoted_followees': []},\n",
       "  'ad_answer': None}]"
      ]
     },
     "execution_count": 5,
     "metadata": {},
     "output_type": "execute_result"
    }
   ],
   "source": [
    "# 觀察key: ['data'] 的資料 \n",
    "j['data']"
   ]
  },
  {
   "cell_type": "code",
   "execution_count": 6,
   "metadata": {},
   "outputs": [
    {
     "data": {
      "text/plain": [
       "{'is_end': False,\n",
       " 'is_start': True,\n",
       " 'next': 'https://www.zhihu.com/api/v4/questions/55493026/answers?limit=5&offset=5',\n",
       " 'previous': 'https://www.zhihu.com/api/v4/questions/55493026/answers?limit=5&offset=0',\n",
       " 'totals': 612}"
      ]
     },
     "execution_count": 6,
     "metadata": {},
     "output_type": "execute_result"
    }
   ],
   "source": [
    "# 觀察key: ['paging'] 的資料，發現這不是我們想要的，接下來專注在['data']\n",
    "j['paging']"
   ]
  },
  {
   "cell_type": "code",
   "execution_count": 7,
   "metadata": {
    "scrolled": true
   },
   "outputs": [
    {
     "data": {
      "text/plain": [
       "list"
      ]
     },
     "execution_count": 7,
     "metadata": {},
     "output_type": "execute_result"
    }
   ],
   "source": [
    "# 了解j['data']資料型態\n",
    "type(j['data'])"
   ]
  },
  {
   "cell_type": "code",
   "execution_count": 8,
   "metadata": {},
   "outputs": [
    {
     "name": "stdout",
     "output_type": "stream",
     "text": [
      "共有5筆資料\n"
     ]
    }
   ],
   "source": [
    "# 計算j['data']資料筆數\n",
    "print(\"共有\" + str(len(j['data'])) + \"筆資料\")"
   ]
  },
  {
   "cell_type": "code",
   "execution_count": 9,
   "metadata": {},
   "outputs": [
    {
     "name": "stdout",
     "output_type": "stream",
     "text": [
      "dict_keys(['id', 'type', 'answer_type', 'question', 'author', 'url', 'is_collapsed', 'created_time', 'updated_time', 'extras', 'is_copyable', 'relationship', 'ad_answer'])\n"
     ]
    }
   ],
   "source": [
    "#觀察每一筆資料所包含的欄位\n",
    "print(j['data'][0].keys()) "
   ]
  },
  {
   "cell_type": "code",
   "execution_count": 10,
   "metadata": {
    "scrolled": true
   },
   "outputs": [
    {
     "data": {
      "text/plain": [
       "{'id': 637938925,\n",
       " 'type': 'answer',\n",
       " 'answer_type': 'normal',\n",
       " 'question': {'type': 'question',\n",
       "  'id': 55493026,\n",
       "  'title': '你们都是怎么学 Python 的？',\n",
       "  'question_type': 'normal',\n",
       "  'created': 1486390229,\n",
       "  'updated_time': 1582533957,\n",
       "  'url': 'https://www.zhihu.com/api/v4/questions/55493026',\n",
       "  'relationship': {}},\n",
       " 'author': {'id': 'e8c4768eaa41e3749f7e8bc5ac6aa74b',\n",
       "  'url_token': 'Lanyuneet',\n",
       "  'name': 'Slumbers',\n",
       "  'avatar_url': 'https://pic1.zhimg.com/v2-f950cfef511d33500177be90030dcd3d_l.jpg',\n",
       "  'avatar_url_template': 'https://pic3.zhimg.com/v2-f950cfef511d33500177be90030dcd3d.jpg',\n",
       "  'is_org': False,\n",
       "  'type': 'people',\n",
       "  'url': 'https://www.zhihu.com/api/v4/people/e8c4768eaa41e3749f7e8bc5ac6aa74b',\n",
       "  'user_type': 'people',\n",
       "  'headline': '算法工程师',\n",
       "  'badge': [],\n",
       "  'badge_v2': {'title': '', 'merged_badges': [], 'detail_badges': []},\n",
       "  'gender': 0,\n",
       "  'is_advertiser': False,\n",
       "  'is_privacy': False},\n",
       " 'url': 'https://www.zhihu.com/api/v4/answers/637938925',\n",
       " 'is_collapsed': False,\n",
       " 'created_time': 1554085028,\n",
       " 'updated_time': 1558451618,\n",
       " 'extras': '',\n",
       " 'is_copyable': True,\n",
       " 'relationship': {'upvoted_followees': []},\n",
       " 'ad_answer': None}"
      ]
     },
     "execution_count": 10,
     "metadata": {},
     "output_type": "execute_result"
    }
   ],
   "source": [
    "# 觀察j['data']第一筆資料\n",
    "j['data'][0]"
   ]
  },
  {
   "cell_type": "code",
   "execution_count": 11,
   "metadata": {
    "scrolled": true
   },
   "outputs": [
    {
     "data": {
      "text/plain": [
       "{'id': 873825546,\n",
       " 'type': 'answer',\n",
       " 'answer_type': 'normal',\n",
       " 'question': {'type': 'question',\n",
       "  'id': 55493026,\n",
       "  'title': '你们都是怎么学 Python 的？',\n",
       "  'question_type': 'normal',\n",
       "  'created': 1486390229,\n",
       "  'updated_time': 1582533957,\n",
       "  'url': 'https://www.zhihu.com/api/v4/questions/55493026',\n",
       "  'relationship': {}},\n",
       " 'author': {'id': '4d1c2c77bc7431c2a6006d154198e8b9',\n",
       "  'url_token': 'ji-de-yao-xing-fu',\n",
       "  'name': '痴海',\n",
       "  'avatar_url': 'https://pic4.zhimg.com/v2-e8b4f9dff1e3c3170185584c925d388a_l.jpg',\n",
       "  'avatar_url_template': 'https://pic1.zhimg.com/v2-e8b4f9dff1e3c3170185584c925d388a.jpg',\n",
       "  'is_org': False,\n",
       "  'type': 'people',\n",
       "  'url': 'https://www.zhihu.com/api/v4/people/4d1c2c77bc7431c2a6006d154198e8b9',\n",
       "  'user_type': 'people',\n",
       "  'headline': '公众号痴海：每周一篇干货文',\n",
       "  'badge': [],\n",
       "  'badge_v2': {'title': '', 'merged_badges': [], 'detail_badges': []},\n",
       "  'gender': 1,\n",
       "  'is_advertiser': False,\n",
       "  'is_privacy': False},\n",
       " 'url': 'https://www.zhihu.com/api/v4/answers/873825546',\n",
       " 'is_collapsed': False,\n",
       " 'created_time': 1572318426,\n",
       " 'updated_time': 1587220473,\n",
       " 'extras': '',\n",
       " 'is_copyable': False,\n",
       " 'relationship': {'upvoted_followees': []},\n",
       " 'ad_answer': None}"
      ]
     },
     "execution_count": 11,
     "metadata": {},
     "output_type": "execute_result"
    }
   ],
   "source": [
    "# 觀察j['data']第二筆資料\n",
    "# 發現j['data'][4]的['question']部分跟j['data'][0]的['question']部分一模一樣。此應為發問的資料記錄\n",
    "# 其餘的部分則為回答問題者，回答時的相關資料記錄\n",
    "j['data'][4]"
   ]
  },
  {
   "cell_type": "markdown",
   "metadata": {},
   "source": [
    "### 1. 取出知乎問題發問時間"
   ]
  },
  {
   "cell_type": "code",
   "execution_count": 12,
   "metadata": {},
   "outputs": [
    {
     "name": "stdout",
     "output_type": "stream",
     "text": [
      "1486390229\n",
      "發問時間:2017-02-06 14:10:29\n"
     ]
    }
   ],
   "source": [
    "# 1. 取出知乎問題發問時間\n",
    "# 我們需要取出的資料為 j['data'][0]['question']['created'] \n",
    "# 時間轉換之參考資料 Converting unix timestamp string to readable date\n",
    "# https://stackoverflow.com/questions/3682748/converting-unix-timestamp-string-to-readable-date\n",
    "\n",
    "from datetime import datetime\n",
    "\n",
    "qt = j['data'][0]['question']['created'] \n",
    "print(qt)\n",
    "print(\"發問時間:\" + datetime.utcfromtimestamp(qt).strftime('%Y-%m-%d %H:%M:%S'))"
   ]
  },
  {
   "cell_type": "markdown",
   "metadata": {},
   "source": [
    "### 2. 取出第一筆與最後一筆回答的時間"
   ]
  },
  {
   "cell_type": "code",
   "execution_count": 13,
   "metadata": {},
   "outputs": [
    {
     "name": "stdout",
     "output_type": "stream",
     "text": [
      "第1筆回答時間:2019-04-01 02:17:08\n",
      "第2筆回答時間:2019-05-14 09:00:12\n",
      "第3筆回答時間:2020-03-26 13:04:14\n",
      "第4筆回答時間:2017-05-02 02:45:13\n",
      "第5筆回答時間:2019-10-29 03:07:06\n"
     ]
    }
   ],
   "source": [
    "# 2. 取出第一筆與最後一筆回答的時間\n",
    "# 我們需要取出的資料為 j['data'][0]['created_time'] \n",
    "for i in range(len(j['data'])): \n",
    "    qt = j['data'][i]['created_time']\n",
    "    time_convert = datetime.utcfromtimestamp(qt).strftime('%Y-%m-%d %H:%M:%S')\n",
    "    print (\"第\" + str(i+1) +\"筆回答時間:\" + str(time_convert)) "
   ]
  }
 ],
 "metadata": {
  "kernelspec": {
   "display_name": "Python 3",
   "language": "python",
   "name": "python3"
  },
  "language_info": {
   "codemirror_mode": {
    "name": "ipython",
    "version": 3
   },
   "file_extension": ".py",
   "mimetype": "text/x-python",
   "name": "python",
   "nbconvert_exporter": "python",
   "pygments_lexer": "ipython3",
   "version": "3.7.6"
  }
 },
 "nbformat": 4,
 "nbformat_minor": 2
}
