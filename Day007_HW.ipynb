{
 "cells": [
  {
   "cell_type": "markdown",
   "metadata": {},
   "source": [
    "# HTTP 靜態網頁架構說明\n",
    "\n",
    "* 認識靜態網頁的溝通架構與運作原理\n",
    "* HTML、CSS、JavaScript 在網頁中扮演的角色\n",
    "* 網頁中定位資料的方法"
   ]
  },
  {
   "cell_type": "markdown",
   "metadata": {},
   "source": [
    "## 作業目標\n",
    "\n",
    "1. （簡答題）請問目前提到的這種基於 HTTP 一來一回的網頁傳輸方式，有哪些缺點及問題？\n",
    "2. （簡答題）網頁中使用的 JavaScipt 程式語言，跟我們一般使用的 Python 在執行上有什麼不同。\n"
   ]
  },
  {
   "cell_type": "markdown",
   "metadata": {},
   "source": [
    "### 1.（簡答題）請問目前提到的這種基於 HTTP 一來一回的網頁傳輸方式，有哪些缺點及問題？"
   ]
  },
  {
   "cell_type": "markdown",
   "metadata": {},
   "source": [
    "HTTP協議永遠都是客戶端發起請求，伺服器回送響應，這樣就限制了使用HTTP協議，無法實現在客戶端沒有發起請求的時候，伺服器將訊息推送給客戶端。HTTP協議是一個無狀態的協議，同一個客戶端的這次請求和上次請求是沒有對應關係。\n",
    "適合於對傳輸速度,安全性要求不是很高,且需要快速開發的應用。如公司OA系統,網際網路服務等。\n",
    "\n",
    "##### 優點：\n",
    "* 基於應用級的介面使用方便\n",
    "* 程式設計師開發水平要求不高,容錯性強\n",
    "\n",
    "##### 缺點：\n",
    "* 傳輸速度慢,資料包大(Http協議中包含輔助應用資訊)\n",
    "* 如實時互動,伺服器效能壓力大。\n",
    "* 資料傳輸安全性差\n",
    "\n",
    "##### Ref：\n",
    "* https://www.itread01.com/content/1544848156.html"
   ]
  },
  {
   "cell_type": "markdown",
   "metadata": {},
   "source": [
    "### 2. （簡答題）網頁中使用的 JavaScipt 程式語言，跟我們一般使用的 Python 在執行上有什麼不同。"
   ]
  },
  {
   "cell_type": "markdown",
   "metadata": {},
   "source": [
    "Python和Javascript都是指令碼語言，所以它們有很多共同的特性，都需要直譯器來執行，都是動態型別，都支援自動記憶體管理,都可以呼叫eval（）來執行指令碼等等指令碼語言所共有的特性。\n",
    "\n",
    "* JavaScript最初是作為一種前端語言出現的，它為瀏覽器提供了動態功能，而這些功能是HTML和CSS無法實現的。\n",
    " \n",
    "* Python是一種物件導向程式設計(Object-oriented programming)的編程語言。 這種編碼語言允許程序員使用虛擬構建塊來構建應用程序和網站。Python透過物件模型為編程員提供清晰結構和更真實動態來降低複雜性。\n",
    "\n",
    "\n",
    "##### Ref：\n",
    "* https://codertw.com/%E7%A8%8B%E5%BC%8F%E8%AA%9E%E8%A8%80/15815/\n",
    "* https://xccelerate.co/blog/python-vs-javascript-cn\n"
   ]
  }
 ],
 "metadata": {
  "kernelspec": {
   "display_name": "Python 3",
   "language": "python",
   "name": "python3"
  },
  "language_info": {
   "codemirror_mode": {
    "name": "ipython",
    "version": 3
   },
   "file_extension": ".py",
   "mimetype": "text/x-python",
   "name": "python",
   "nbconvert_exporter": "python",
   "pygments_lexer": "ipython3",
   "version": "3.7.6"
  }
 },
 "nbformat": 4,
 "nbformat_minor": 2
}
